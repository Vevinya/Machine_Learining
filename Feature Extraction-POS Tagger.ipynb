{
 "cells": [
  {
   "cell_type": "code",
   "execution_count": 2,
   "metadata": {},
   "outputs": [],
   "source": [
    "#Program for feature extraction\n",
    "import nltk"
   ]
  },
  {
   "cell_type": "code",
   "execution_count": null,
   "metadata": {},
   "outputs": [],
   "source": [
    "#Defining a function for feature extraction\n",
    "def features(word):\n",
    "    return{\n",
    "    'last_letter':word[-1],\n",
    "    'first_letter_upper': str(word[0]).upper()==word[0],\n",
    "    'rem_letter_lower': word[1:]==str(word[1:]).lower(),\n",
    "    'number': str(word).isdigit(),\n",
    "    'all_lower':str(word).lower()==word,\n",
    "    'all_upper':str(word).upper()==word,\n",
    "    'prefix-1': word[0],\n",
    "    'prefix-2': word[:2],\n",
    "    'prefix-3': word[:3],\n",
    "    'suffix-1': word[-1],\n",
    "    'suffix-2': word[-2:],\n",
    "    'suffix-3': word[-3:],\n",
    "    'suffix-4': word[-4:],\n",
    "    'suffix-6': word[-6:],\n",
    "    }"
   ]
  }
 ],
 "metadata": {
  "kernelspec": {
   "display_name": "Python 3",
   "language": "python",
   "name": "python3"
  },
  "language_info": {
   "codemirror_mode": {
    "name": "ipython",
    "version": 3
   },
   "file_extension": ".py",
   "mimetype": "text/x-python",
   "name": "python",
   "nbconvert_exporter": "python",
   "pygments_lexer": "ipython3",
   "version": "3.7.6"
  }
 },
 "nbformat": 4,
 "nbformat_minor": 4
}
