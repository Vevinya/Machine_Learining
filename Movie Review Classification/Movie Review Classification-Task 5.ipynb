{
 "cells": [
  {
   "cell_type": "code",
   "execution_count": 1,
   "metadata": {},
   "outputs": [],
   "source": [
    "import nltk"
   ]
  },
  {
   "cell_type": "code",
   "execution_count": 2,
   "metadata": {},
   "outputs": [],
   "source": [
    "import pandas as pd"
   ]
  },
  {
   "cell_type": "code",
   "execution_count": 3,
   "metadata": {},
   "outputs": [],
   "source": [
    "#Reading the dataset to memory\n",
    "data_frame=pd.read_csv(\"Dataset/IMDB Dataset.csv\")"
   ]
  },
  {
   "cell_type": "code",
   "execution_count": 4,
   "metadata": {},
   "outputs": [
    {
     "name": "stdout",
     "output_type": "stream",
     "text": [
      "['review', 'sentiment']\n"
     ]
    }
   ],
   "source": [
    "#Columns in my Dataframe\n",
    "print(list(data_frame))"
   ]
  },
  {
   "cell_type": "code",
   "execution_count": 5,
   "metadata": {},
   "outputs": [
    {
     "data": {
      "text/html": [
       "<div>\n",
       "<style scoped>\n",
       "    .dataframe tbody tr th:only-of-type {\n",
       "        vertical-align: middle;\n",
       "    }\n",
       "\n",
       "    .dataframe tbody tr th {\n",
       "        vertical-align: top;\n",
       "    }\n",
       "\n",
       "    .dataframe thead th {\n",
       "        text-align: right;\n",
       "    }\n",
       "</style>\n",
       "<table border=\"1\" class=\"dataframe\">\n",
       "  <thead>\n",
       "    <tr style=\"text-align: right;\">\n",
       "      <th></th>\n",
       "      <th>review</th>\n",
       "      <th>sentiment</th>\n",
       "    </tr>\n",
       "  </thead>\n",
       "  <tbody>\n",
       "    <tr>\n",
       "      <th>0</th>\n",
       "      <td>One of the other reviewers has mentioned that ...</td>\n",
       "      <td>positive</td>\n",
       "    </tr>\n",
       "    <tr>\n",
       "      <th>1</th>\n",
       "      <td>A wonderful little production. &lt;br /&gt;&lt;br /&gt;The...</td>\n",
       "      <td>positive</td>\n",
       "    </tr>\n",
       "    <tr>\n",
       "      <th>2</th>\n",
       "      <td>I thought this was a wonderful way to spend ti...</td>\n",
       "      <td>positive</td>\n",
       "    </tr>\n",
       "    <tr>\n",
       "      <th>3</th>\n",
       "      <td>Basically there's a family where a little boy ...</td>\n",
       "      <td>negative</td>\n",
       "    </tr>\n",
       "    <tr>\n",
       "      <th>4</th>\n",
       "      <td>Petter Mattei's \"Love in the Time of Money\" is...</td>\n",
       "      <td>positive</td>\n",
       "    </tr>\n",
       "    <tr>\n",
       "      <th>...</th>\n",
       "      <td>...</td>\n",
       "      <td>...</td>\n",
       "    </tr>\n",
       "    <tr>\n",
       "      <th>49995</th>\n",
       "      <td>I thought this movie did a down right good job...</td>\n",
       "      <td>positive</td>\n",
       "    </tr>\n",
       "    <tr>\n",
       "      <th>49996</th>\n",
       "      <td>Bad plot, bad dialogue, bad acting, idiotic di...</td>\n",
       "      <td>negative</td>\n",
       "    </tr>\n",
       "    <tr>\n",
       "      <th>49997</th>\n",
       "      <td>I am a Catholic taught in parochial elementary...</td>\n",
       "      <td>negative</td>\n",
       "    </tr>\n",
       "    <tr>\n",
       "      <th>49998</th>\n",
       "      <td>I'm going to have to disagree with the previou...</td>\n",
       "      <td>negative</td>\n",
       "    </tr>\n",
       "    <tr>\n",
       "      <th>49999</th>\n",
       "      <td>No one expects the Star Trek movies to be high...</td>\n",
       "      <td>negative</td>\n",
       "    </tr>\n",
       "  </tbody>\n",
       "</table>\n",
       "<p>50000 rows × 2 columns</p>\n",
       "</div>"
      ],
      "text/plain": [
       "                                                  review sentiment\n",
       "0      One of the other reviewers has mentioned that ...  positive\n",
       "1      A wonderful little production. <br /><br />The...  positive\n",
       "2      I thought this was a wonderful way to spend ti...  positive\n",
       "3      Basically there's a family where a little boy ...  negative\n",
       "4      Petter Mattei's \"Love in the Time of Money\" is...  positive\n",
       "...                                                  ...       ...\n",
       "49995  I thought this movie did a down right good job...  positive\n",
       "49996  Bad plot, bad dialogue, bad acting, idiotic di...  negative\n",
       "49997  I am a Catholic taught in parochial elementary...  negative\n",
       "49998  I'm going to have to disagree with the previou...  negative\n",
       "49999  No one expects the Star Trek movies to be high...  negative\n",
       "\n",
       "[50000 rows x 2 columns]"
      ]
     },
     "execution_count": 5,
     "metadata": {},
     "output_type": "execute_result"
    }
   ],
   "source": [
    "data_frame"
   ]
  },
  {
   "cell_type": "code",
   "execution_count": 6,
   "metadata": {},
   "outputs": [],
   "source": [
    "#Making all review to lowercase\n",
    "data_frame['review'] = data_frame['review'].str.lower()"
   ]
  },
  {
   "cell_type": "code",
   "execution_count": 7,
   "metadata": {},
   "outputs": [
    {
     "data": {
      "text/html": [
       "<div>\n",
       "<style scoped>\n",
       "    .dataframe tbody tr th:only-of-type {\n",
       "        vertical-align: middle;\n",
       "    }\n",
       "\n",
       "    .dataframe tbody tr th {\n",
       "        vertical-align: top;\n",
       "    }\n",
       "\n",
       "    .dataframe thead th {\n",
       "        text-align: right;\n",
       "    }\n",
       "</style>\n",
       "<table border=\"1\" class=\"dataframe\">\n",
       "  <thead>\n",
       "    <tr style=\"text-align: right;\">\n",
       "      <th></th>\n",
       "      <th>review</th>\n",
       "      <th>sentiment</th>\n",
       "    </tr>\n",
       "  </thead>\n",
       "  <tbody>\n",
       "    <tr>\n",
       "      <th>0</th>\n",
       "      <td>one of the other reviewers has mentioned that ...</td>\n",
       "      <td>positive</td>\n",
       "    </tr>\n",
       "    <tr>\n",
       "      <th>1</th>\n",
       "      <td>a wonderful little production. &lt;br /&gt;&lt;br /&gt;the...</td>\n",
       "      <td>positive</td>\n",
       "    </tr>\n",
       "    <tr>\n",
       "      <th>2</th>\n",
       "      <td>i thought this was a wonderful way to spend ti...</td>\n",
       "      <td>positive</td>\n",
       "    </tr>\n",
       "    <tr>\n",
       "      <th>3</th>\n",
       "      <td>basically there's a family where a little boy ...</td>\n",
       "      <td>negative</td>\n",
       "    </tr>\n",
       "    <tr>\n",
       "      <th>4</th>\n",
       "      <td>petter mattei's \"love in the time of money\" is...</td>\n",
       "      <td>positive</td>\n",
       "    </tr>\n",
       "    <tr>\n",
       "      <th>...</th>\n",
       "      <td>...</td>\n",
       "      <td>...</td>\n",
       "    </tr>\n",
       "    <tr>\n",
       "      <th>49995</th>\n",
       "      <td>i thought this movie did a down right good job...</td>\n",
       "      <td>positive</td>\n",
       "    </tr>\n",
       "    <tr>\n",
       "      <th>49996</th>\n",
       "      <td>bad plot, bad dialogue, bad acting, idiotic di...</td>\n",
       "      <td>negative</td>\n",
       "    </tr>\n",
       "    <tr>\n",
       "      <th>49997</th>\n",
       "      <td>i am a catholic taught in parochial elementary...</td>\n",
       "      <td>negative</td>\n",
       "    </tr>\n",
       "    <tr>\n",
       "      <th>49998</th>\n",
       "      <td>i'm going to have to disagree with the previou...</td>\n",
       "      <td>negative</td>\n",
       "    </tr>\n",
       "    <tr>\n",
       "      <th>49999</th>\n",
       "      <td>no one expects the star trek movies to be high...</td>\n",
       "      <td>negative</td>\n",
       "    </tr>\n",
       "  </tbody>\n",
       "</table>\n",
       "<p>50000 rows × 2 columns</p>\n",
       "</div>"
      ],
      "text/plain": [
       "                                                  review sentiment\n",
       "0      one of the other reviewers has mentioned that ...  positive\n",
       "1      a wonderful little production. <br /><br />the...  positive\n",
       "2      i thought this was a wonderful way to spend ti...  positive\n",
       "3      basically there's a family where a little boy ...  negative\n",
       "4      petter mattei's \"love in the time of money\" is...  positive\n",
       "...                                                  ...       ...\n",
       "49995  i thought this movie did a down right good job...  positive\n",
       "49996  bad plot, bad dialogue, bad acting, idiotic di...  negative\n",
       "49997  i am a catholic taught in parochial elementary...  negative\n",
       "49998  i'm going to have to disagree with the previou...  negative\n",
       "49999  no one expects the star trek movies to be high...  negative\n",
       "\n",
       "[50000 rows x 2 columns]"
      ]
     },
     "execution_count": 7,
     "metadata": {},
     "output_type": "execute_result"
    }
   ],
   "source": [
    "data_frame"
   ]
  },
  {
   "cell_type": "code",
   "execution_count": 8,
   "metadata": {},
   "outputs": [],
   "source": [
    "#Function to split string to tokens\n",
    "def identify_tokens(row):\n",
    "    tokens = nltk.word_tokenize(row)\n",
    "    token_words = [w for w in tokens if w.isalpha()]\n",
    "    return token_words"
   ]
  },
  {
   "cell_type": "code",
   "execution_count": 9,
   "metadata": {},
   "outputs": [],
   "source": [
    "#Tokenization of DataFrame\n",
    "data_frame['words'] = data_frame[\"review\"].apply(identify_tokens)"
   ]
  },
  {
   "cell_type": "code",
   "execution_count": 10,
   "metadata": {},
   "outputs": [
    {
     "data": {
      "text/html": [
       "<div>\n",
       "<style scoped>\n",
       "    .dataframe tbody tr th:only-of-type {\n",
       "        vertical-align: middle;\n",
       "    }\n",
       "\n",
       "    .dataframe tbody tr th {\n",
       "        vertical-align: top;\n",
       "    }\n",
       "\n",
       "    .dataframe thead th {\n",
       "        text-align: right;\n",
       "    }\n",
       "</style>\n",
       "<table border=\"1\" class=\"dataframe\">\n",
       "  <thead>\n",
       "    <tr style=\"text-align: right;\">\n",
       "      <th></th>\n",
       "      <th>review</th>\n",
       "      <th>sentiment</th>\n",
       "      <th>words</th>\n",
       "    </tr>\n",
       "  </thead>\n",
       "  <tbody>\n",
       "    <tr>\n",
       "      <th>0</th>\n",
       "      <td>one of the other reviewers has mentioned that ...</td>\n",
       "      <td>positive</td>\n",
       "      <td>[one, of, the, other, reviewers, has, mentione...</td>\n",
       "    </tr>\n",
       "    <tr>\n",
       "      <th>1</th>\n",
       "      <td>a wonderful little production. &lt;br /&gt;&lt;br /&gt;the...</td>\n",
       "      <td>positive</td>\n",
       "      <td>[a, wonderful, little, production, br, br, the...</td>\n",
       "    </tr>\n",
       "    <tr>\n",
       "      <th>2</th>\n",
       "      <td>i thought this was a wonderful way to spend ti...</td>\n",
       "      <td>positive</td>\n",
       "      <td>[i, thought, this, was, a, wonderful, way, to,...</td>\n",
       "    </tr>\n",
       "    <tr>\n",
       "      <th>3</th>\n",
       "      <td>basically there's a family where a little boy ...</td>\n",
       "      <td>negative</td>\n",
       "      <td>[basically, there, a, family, where, a, little...</td>\n",
       "    </tr>\n",
       "    <tr>\n",
       "      <th>4</th>\n",
       "      <td>petter mattei's \"love in the time of money\" is...</td>\n",
       "      <td>positive</td>\n",
       "      <td>[petter, mattei, love, in, the, time, of, mone...</td>\n",
       "    </tr>\n",
       "    <tr>\n",
       "      <th>...</th>\n",
       "      <td>...</td>\n",
       "      <td>...</td>\n",
       "      <td>...</td>\n",
       "    </tr>\n",
       "    <tr>\n",
       "      <th>49995</th>\n",
       "      <td>i thought this movie did a down right good job...</td>\n",
       "      <td>positive</td>\n",
       "      <td>[i, thought, this, movie, did, a, down, right,...</td>\n",
       "    </tr>\n",
       "    <tr>\n",
       "      <th>49996</th>\n",
       "      <td>bad plot, bad dialogue, bad acting, idiotic di...</td>\n",
       "      <td>negative</td>\n",
       "      <td>[bad, plot, bad, dialogue, bad, acting, idioti...</td>\n",
       "    </tr>\n",
       "    <tr>\n",
       "      <th>49997</th>\n",
       "      <td>i am a catholic taught in parochial elementary...</td>\n",
       "      <td>negative</td>\n",
       "      <td>[i, am, a, catholic, taught, in, parochial, el...</td>\n",
       "    </tr>\n",
       "    <tr>\n",
       "      <th>49998</th>\n",
       "      <td>i'm going to have to disagree with the previou...</td>\n",
       "      <td>negative</td>\n",
       "      <td>[i, going, to, have, to, disagree, with, the, ...</td>\n",
       "    </tr>\n",
       "    <tr>\n",
       "      <th>49999</th>\n",
       "      <td>no one expects the star trek movies to be high...</td>\n",
       "      <td>negative</td>\n",
       "      <td>[no, one, expects, the, star, trek, movies, to...</td>\n",
       "    </tr>\n",
       "  </tbody>\n",
       "</table>\n",
       "<p>50000 rows × 3 columns</p>\n",
       "</div>"
      ],
      "text/plain": [
       "                                                  review sentiment  \\\n",
       "0      one of the other reviewers has mentioned that ...  positive   \n",
       "1      a wonderful little production. <br /><br />the...  positive   \n",
       "2      i thought this was a wonderful way to spend ti...  positive   \n",
       "3      basically there's a family where a little boy ...  negative   \n",
       "4      petter mattei's \"love in the time of money\" is...  positive   \n",
       "...                                                  ...       ...   \n",
       "49995  i thought this movie did a down right good job...  positive   \n",
       "49996  bad plot, bad dialogue, bad acting, idiotic di...  negative   \n",
       "49997  i am a catholic taught in parochial elementary...  negative   \n",
       "49998  i'm going to have to disagree with the previou...  negative   \n",
       "49999  no one expects the star trek movies to be high...  negative   \n",
       "\n",
       "                                                   words  \n",
       "0      [one, of, the, other, reviewers, has, mentione...  \n",
       "1      [a, wonderful, little, production, br, br, the...  \n",
       "2      [i, thought, this, was, a, wonderful, way, to,...  \n",
       "3      [basically, there, a, family, where, a, little...  \n",
       "4      [petter, mattei, love, in, the, time, of, mone...  \n",
       "...                                                  ...  \n",
       "49995  [i, thought, this, movie, did, a, down, right,...  \n",
       "49996  [bad, plot, bad, dialogue, bad, acting, idioti...  \n",
       "49997  [i, am, a, catholic, taught, in, parochial, el...  \n",
       "49998  [i, going, to, have, to, disagree, with, the, ...  \n",
       "49999  [no, one, expects, the, star, trek, movies, to...  \n",
       "\n",
       "[50000 rows x 3 columns]"
      ]
     },
     "execution_count": 10,
     "metadata": {},
     "output_type": "execute_result"
    }
   ],
   "source": [
    "data_frame"
   ]
  },
  {
   "cell_type": "code",
   "execution_count": 11,
   "metadata": {},
   "outputs": [],
   "source": [
    "from nltk.stem import PorterStemmer\n",
    "stemming = PorterStemmer()"
   ]
  },
  {
   "cell_type": "code",
   "execution_count": 12,
   "metadata": {},
   "outputs": [],
   "source": [
    "#Funtion for stemming the list of words\n",
    "def stem_list(row):\n",
    "    stemmed_list = [stemming.stem(word) for word in row]\n",
    "    return (stemmed_list)"
   ]
  },
  {
   "cell_type": "code",
   "execution_count": 13,
   "metadata": {},
   "outputs": [],
   "source": [
    "#Stemming of the dataframe\n",
    "data_frame['stemmed_words'] = data_frame[\"words\"].apply(stem_list)"
   ]
  },
  {
   "cell_type": "code",
   "execution_count": 14,
   "metadata": {},
   "outputs": [
    {
     "data": {
      "text/html": [
       "<div>\n",
       "<style scoped>\n",
       "    .dataframe tbody tr th:only-of-type {\n",
       "        vertical-align: middle;\n",
       "    }\n",
       "\n",
       "    .dataframe tbody tr th {\n",
       "        vertical-align: top;\n",
       "    }\n",
       "\n",
       "    .dataframe thead th {\n",
       "        text-align: right;\n",
       "    }\n",
       "</style>\n",
       "<table border=\"1\" class=\"dataframe\">\n",
       "  <thead>\n",
       "    <tr style=\"text-align: right;\">\n",
       "      <th></th>\n",
       "      <th>review</th>\n",
       "      <th>sentiment</th>\n",
       "      <th>words</th>\n",
       "      <th>stemmed_words</th>\n",
       "    </tr>\n",
       "  </thead>\n",
       "  <tbody>\n",
       "    <tr>\n",
       "      <th>0</th>\n",
       "      <td>one of the other reviewers has mentioned that ...</td>\n",
       "      <td>positive</td>\n",
       "      <td>[one, of, the, other, reviewers, has, mentione...</td>\n",
       "      <td>[one, of, the, other, review, ha, mention, tha...</td>\n",
       "    </tr>\n",
       "    <tr>\n",
       "      <th>1</th>\n",
       "      <td>a wonderful little production. &lt;br /&gt;&lt;br /&gt;the...</td>\n",
       "      <td>positive</td>\n",
       "      <td>[a, wonderful, little, production, br, br, the...</td>\n",
       "      <td>[a, wonder, littl, product, br, br, the, film,...</td>\n",
       "    </tr>\n",
       "    <tr>\n",
       "      <th>2</th>\n",
       "      <td>i thought this was a wonderful way to spend ti...</td>\n",
       "      <td>positive</td>\n",
       "      <td>[i, thought, this, was, a, wonderful, way, to,...</td>\n",
       "      <td>[i, thought, thi, wa, a, wonder, way, to, spen...</td>\n",
       "    </tr>\n",
       "    <tr>\n",
       "      <th>3</th>\n",
       "      <td>basically there's a family where a little boy ...</td>\n",
       "      <td>negative</td>\n",
       "      <td>[basically, there, a, family, where, a, little...</td>\n",
       "      <td>[basic, there, a, famili, where, a, littl, boy...</td>\n",
       "    </tr>\n",
       "    <tr>\n",
       "      <th>4</th>\n",
       "      <td>petter mattei's \"love in the time of money\" is...</td>\n",
       "      <td>positive</td>\n",
       "      <td>[petter, mattei, love, in, the, time, of, mone...</td>\n",
       "      <td>[petter, mattei, love, in, the, time, of, mone...</td>\n",
       "    </tr>\n",
       "    <tr>\n",
       "      <th>...</th>\n",
       "      <td>...</td>\n",
       "      <td>...</td>\n",
       "      <td>...</td>\n",
       "      <td>...</td>\n",
       "    </tr>\n",
       "    <tr>\n",
       "      <th>49995</th>\n",
       "      <td>i thought this movie did a down right good job...</td>\n",
       "      <td>positive</td>\n",
       "      <td>[i, thought, this, movie, did, a, down, right,...</td>\n",
       "      <td>[i, thought, thi, movi, did, a, down, right, g...</td>\n",
       "    </tr>\n",
       "    <tr>\n",
       "      <th>49996</th>\n",
       "      <td>bad plot, bad dialogue, bad acting, idiotic di...</td>\n",
       "      <td>negative</td>\n",
       "      <td>[bad, plot, bad, dialogue, bad, acting, idioti...</td>\n",
       "      <td>[bad, plot, bad, dialogu, bad, act, idiot, dir...</td>\n",
       "    </tr>\n",
       "    <tr>\n",
       "      <th>49997</th>\n",
       "      <td>i am a catholic taught in parochial elementary...</td>\n",
       "      <td>negative</td>\n",
       "      <td>[i, am, a, catholic, taught, in, parochial, el...</td>\n",
       "      <td>[i, am, a, cathol, taught, in, parochi, elemen...</td>\n",
       "    </tr>\n",
       "    <tr>\n",
       "      <th>49998</th>\n",
       "      <td>i'm going to have to disagree with the previou...</td>\n",
       "      <td>negative</td>\n",
       "      <td>[i, going, to, have, to, disagree, with, the, ...</td>\n",
       "      <td>[i, go, to, have, to, disagre, with, the, prev...</td>\n",
       "    </tr>\n",
       "    <tr>\n",
       "      <th>49999</th>\n",
       "      <td>no one expects the star trek movies to be high...</td>\n",
       "      <td>negative</td>\n",
       "      <td>[no, one, expects, the, star, trek, movies, to...</td>\n",
       "      <td>[no, one, expect, the, star, trek, movi, to, b...</td>\n",
       "    </tr>\n",
       "  </tbody>\n",
       "</table>\n",
       "<p>50000 rows × 4 columns</p>\n",
       "</div>"
      ],
      "text/plain": [
       "                                                  review sentiment  \\\n",
       "0      one of the other reviewers has mentioned that ...  positive   \n",
       "1      a wonderful little production. <br /><br />the...  positive   \n",
       "2      i thought this was a wonderful way to spend ti...  positive   \n",
       "3      basically there's a family where a little boy ...  negative   \n",
       "4      petter mattei's \"love in the time of money\" is...  positive   \n",
       "...                                                  ...       ...   \n",
       "49995  i thought this movie did a down right good job...  positive   \n",
       "49996  bad plot, bad dialogue, bad acting, idiotic di...  negative   \n",
       "49997  i am a catholic taught in parochial elementary...  negative   \n",
       "49998  i'm going to have to disagree with the previou...  negative   \n",
       "49999  no one expects the star trek movies to be high...  negative   \n",
       "\n",
       "                                                   words  \\\n",
       "0      [one, of, the, other, reviewers, has, mentione...   \n",
       "1      [a, wonderful, little, production, br, br, the...   \n",
       "2      [i, thought, this, was, a, wonderful, way, to,...   \n",
       "3      [basically, there, a, family, where, a, little...   \n",
       "4      [petter, mattei, love, in, the, time, of, mone...   \n",
       "...                                                  ...   \n",
       "49995  [i, thought, this, movie, did, a, down, right,...   \n",
       "49996  [bad, plot, bad, dialogue, bad, acting, idioti...   \n",
       "49997  [i, am, a, catholic, taught, in, parochial, el...   \n",
       "49998  [i, going, to, have, to, disagree, with, the, ...   \n",
       "49999  [no, one, expects, the, star, trek, movies, to...   \n",
       "\n",
       "                                           stemmed_words  \n",
       "0      [one, of, the, other, review, ha, mention, tha...  \n",
       "1      [a, wonder, littl, product, br, br, the, film,...  \n",
       "2      [i, thought, thi, wa, a, wonder, way, to, spen...  \n",
       "3      [basic, there, a, famili, where, a, littl, boy...  \n",
       "4      [petter, mattei, love, in, the, time, of, mone...  \n",
       "...                                                  ...  \n",
       "49995  [i, thought, thi, movi, did, a, down, right, g...  \n",
       "49996  [bad, plot, bad, dialogu, bad, act, idiot, dir...  \n",
       "49997  [i, am, a, cathol, taught, in, parochi, elemen...  \n",
       "49998  [i, go, to, have, to, disagre, with, the, prev...  \n",
       "49999  [no, one, expect, the, star, trek, movi, to, b...  \n",
       "\n",
       "[50000 rows x 4 columns]"
      ]
     },
     "execution_count": 14,
     "metadata": {},
     "output_type": "execute_result"
    }
   ],
   "source": [
    "data_frame"
   ]
  },
  {
   "cell_type": "code",
   "execution_count": 15,
   "metadata": {},
   "outputs": [],
   "source": [
    "from nltk.corpus import stopwords\n",
    "stops = set(stopwords.words(\"english\"))"
   ]
  },
  {
   "cell_type": "code",
   "execution_count": 16,
   "metadata": {},
   "outputs": [],
   "source": [
    "#Function to remove stop words from the list of words\n",
    "def remove_stops(row):\n",
    "    meaningful_words = [w for w in row if not w in stops]\n",
    "    return (meaningful_words)"
   ]
  },
  {
   "cell_type": "code",
   "execution_count": 17,
   "metadata": {},
   "outputs": [],
   "source": [
    "#Removing stopwords from the Dataframe\n",
    "data_frame['refined_review'] = data_frame[\"stemmed_words\"].apply(remove_stops)"
   ]
  },
  {
   "cell_type": "code",
   "execution_count": 18,
   "metadata": {
    "scrolled": true
   },
   "outputs": [
    {
     "data": {
      "text/html": [
       "<div>\n",
       "<style scoped>\n",
       "    .dataframe tbody tr th:only-of-type {\n",
       "        vertical-align: middle;\n",
       "    }\n",
       "\n",
       "    .dataframe tbody tr th {\n",
       "        vertical-align: top;\n",
       "    }\n",
       "\n",
       "    .dataframe thead th {\n",
       "        text-align: right;\n",
       "    }\n",
       "</style>\n",
       "<table border=\"1\" class=\"dataframe\">\n",
       "  <thead>\n",
       "    <tr style=\"text-align: right;\">\n",
       "      <th></th>\n",
       "      <th>review</th>\n",
       "      <th>sentiment</th>\n",
       "      <th>words</th>\n",
       "      <th>stemmed_words</th>\n",
       "      <th>refined_review</th>\n",
       "    </tr>\n",
       "  </thead>\n",
       "  <tbody>\n",
       "    <tr>\n",
       "      <th>0</th>\n",
       "      <td>one of the other reviewers has mentioned that ...</td>\n",
       "      <td>positive</td>\n",
       "      <td>[one, of, the, other, reviewers, has, mentione...</td>\n",
       "      <td>[one, of, the, other, review, ha, mention, tha...</td>\n",
       "      <td>[one, review, ha, mention, watch, oz, episod, ...</td>\n",
       "    </tr>\n",
       "    <tr>\n",
       "      <th>1</th>\n",
       "      <td>a wonderful little production. &lt;br /&gt;&lt;br /&gt;the...</td>\n",
       "      <td>positive</td>\n",
       "      <td>[a, wonderful, little, production, br, br, the...</td>\n",
       "      <td>[a, wonder, littl, product, br, br, the, film,...</td>\n",
       "      <td>[wonder, littl, product, br, br, film, techniq...</td>\n",
       "    </tr>\n",
       "    <tr>\n",
       "      <th>2</th>\n",
       "      <td>i thought this was a wonderful way to spend ti...</td>\n",
       "      <td>positive</td>\n",
       "      <td>[i, thought, this, was, a, wonderful, way, to,...</td>\n",
       "      <td>[i, thought, thi, wa, a, wonder, way, to, spen...</td>\n",
       "      <td>[thought, thi, wa, wonder, way, spend, time, h...</td>\n",
       "    </tr>\n",
       "    <tr>\n",
       "      <th>3</th>\n",
       "      <td>basically there's a family where a little boy ...</td>\n",
       "      <td>negative</td>\n",
       "      <td>[basically, there, a, family, where, a, little...</td>\n",
       "      <td>[basic, there, a, famili, where, a, littl, boy...</td>\n",
       "      <td>[basic, famili, littl, boy, jake, think, zombi...</td>\n",
       "    </tr>\n",
       "    <tr>\n",
       "      <th>4</th>\n",
       "      <td>petter mattei's \"love in the time of money\" is...</td>\n",
       "      <td>positive</td>\n",
       "      <td>[petter, mattei, love, in, the, time, of, mone...</td>\n",
       "      <td>[petter, mattei, love, in, the, time, of, mone...</td>\n",
       "      <td>[petter, mattei, love, time, money, visual, st...</td>\n",
       "    </tr>\n",
       "    <tr>\n",
       "      <th>...</th>\n",
       "      <td>...</td>\n",
       "      <td>...</td>\n",
       "      <td>...</td>\n",
       "      <td>...</td>\n",
       "      <td>...</td>\n",
       "    </tr>\n",
       "    <tr>\n",
       "      <th>49995</th>\n",
       "      <td>i thought this movie did a down right good job...</td>\n",
       "      <td>positive</td>\n",
       "      <td>[i, thought, this, movie, did, a, down, right,...</td>\n",
       "      <td>[i, thought, thi, movi, did, a, down, right, g...</td>\n",
       "      <td>[thought, thi, movi, right, good, job, wa, cre...</td>\n",
       "    </tr>\n",
       "    <tr>\n",
       "      <th>49996</th>\n",
       "      <td>bad plot, bad dialogue, bad acting, idiotic di...</td>\n",
       "      <td>negative</td>\n",
       "      <td>[bad, plot, bad, dialogue, bad, acting, idioti...</td>\n",
       "      <td>[bad, plot, bad, dialogu, bad, act, idiot, dir...</td>\n",
       "      <td>[bad, plot, bad, dialogu, bad, act, idiot, dir...</td>\n",
       "    </tr>\n",
       "    <tr>\n",
       "      <th>49997</th>\n",
       "      <td>i am a catholic taught in parochial elementary...</td>\n",
       "      <td>negative</td>\n",
       "      <td>[i, am, a, catholic, taught, in, parochial, el...</td>\n",
       "      <td>[i, am, a, cathol, taught, in, parochi, elemen...</td>\n",
       "      <td>[cathol, taught, parochi, elementari, school, ...</td>\n",
       "    </tr>\n",
       "    <tr>\n",
       "      <th>49998</th>\n",
       "      <td>i'm going to have to disagree with the previou...</td>\n",
       "      <td>negative</td>\n",
       "      <td>[i, going, to, have, to, disagree, with, the, ...</td>\n",
       "      <td>[i, go, to, have, to, disagre, with, the, prev...</td>\n",
       "      <td>[go, disagre, previou, comment, side, maltin, ...</td>\n",
       "    </tr>\n",
       "    <tr>\n",
       "      <th>49999</th>\n",
       "      <td>no one expects the star trek movies to be high...</td>\n",
       "      <td>negative</td>\n",
       "      <td>[no, one, expects, the, star, trek, movies, to...</td>\n",
       "      <td>[no, one, expect, the, star, trek, movi, to, b...</td>\n",
       "      <td>[one, expect, star, trek, movi, high, art, fan...</td>\n",
       "    </tr>\n",
       "  </tbody>\n",
       "</table>\n",
       "<p>50000 rows × 5 columns</p>\n",
       "</div>"
      ],
      "text/plain": [
       "                                                  review sentiment  \\\n",
       "0      one of the other reviewers has mentioned that ...  positive   \n",
       "1      a wonderful little production. <br /><br />the...  positive   \n",
       "2      i thought this was a wonderful way to spend ti...  positive   \n",
       "3      basically there's a family where a little boy ...  negative   \n",
       "4      petter mattei's \"love in the time of money\" is...  positive   \n",
       "...                                                  ...       ...   \n",
       "49995  i thought this movie did a down right good job...  positive   \n",
       "49996  bad plot, bad dialogue, bad acting, idiotic di...  negative   \n",
       "49997  i am a catholic taught in parochial elementary...  negative   \n",
       "49998  i'm going to have to disagree with the previou...  negative   \n",
       "49999  no one expects the star trek movies to be high...  negative   \n",
       "\n",
       "                                                   words  \\\n",
       "0      [one, of, the, other, reviewers, has, mentione...   \n",
       "1      [a, wonderful, little, production, br, br, the...   \n",
       "2      [i, thought, this, was, a, wonderful, way, to,...   \n",
       "3      [basically, there, a, family, where, a, little...   \n",
       "4      [petter, mattei, love, in, the, time, of, mone...   \n",
       "...                                                  ...   \n",
       "49995  [i, thought, this, movie, did, a, down, right,...   \n",
       "49996  [bad, plot, bad, dialogue, bad, acting, idioti...   \n",
       "49997  [i, am, a, catholic, taught, in, parochial, el...   \n",
       "49998  [i, going, to, have, to, disagree, with, the, ...   \n",
       "49999  [no, one, expects, the, star, trek, movies, to...   \n",
       "\n",
       "                                           stemmed_words  \\\n",
       "0      [one, of, the, other, review, ha, mention, tha...   \n",
       "1      [a, wonder, littl, product, br, br, the, film,...   \n",
       "2      [i, thought, thi, wa, a, wonder, way, to, spen...   \n",
       "3      [basic, there, a, famili, where, a, littl, boy...   \n",
       "4      [petter, mattei, love, in, the, time, of, mone...   \n",
       "...                                                  ...   \n",
       "49995  [i, thought, thi, movi, did, a, down, right, g...   \n",
       "49996  [bad, plot, bad, dialogu, bad, act, idiot, dir...   \n",
       "49997  [i, am, a, cathol, taught, in, parochi, elemen...   \n",
       "49998  [i, go, to, have, to, disagre, with, the, prev...   \n",
       "49999  [no, one, expect, the, star, trek, movi, to, b...   \n",
       "\n",
       "                                          refined_review  \n",
       "0      [one, review, ha, mention, watch, oz, episod, ...  \n",
       "1      [wonder, littl, product, br, br, film, techniq...  \n",
       "2      [thought, thi, wa, wonder, way, spend, time, h...  \n",
       "3      [basic, famili, littl, boy, jake, think, zombi...  \n",
       "4      [petter, mattei, love, time, money, visual, st...  \n",
       "...                                                  ...  \n",
       "49995  [thought, thi, movi, right, good, job, wa, cre...  \n",
       "49996  [bad, plot, bad, dialogu, bad, act, idiot, dir...  \n",
       "49997  [cathol, taught, parochi, elementari, school, ...  \n",
       "49998  [go, disagre, previou, comment, side, maltin, ...  \n",
       "49999  [one, expect, star, trek, movi, high, art, fan...  \n",
       "\n",
       "[50000 rows x 5 columns]"
      ]
     },
     "execution_count": 18,
     "metadata": {},
     "output_type": "execute_result"
    }
   ],
   "source": [
    "data_frame"
   ]
  },
  {
   "cell_type": "code",
   "execution_count": 19,
   "metadata": {},
   "outputs": [],
   "source": [
    "#Function to join the processed words\n",
    "def rejoin_words(row):\n",
    "    joined_words = ( \" \".join(row))\n",
    "    return joined_words"
   ]
  },
  {
   "cell_type": "code",
   "execution_count": 20,
   "metadata": {},
   "outputs": [],
   "source": [
    "#Joining the processed words in the data_frame\n",
    "data_frame['processed'] = data_frame[\"refined_review\"].apply(rejoin_words)"
   ]
  },
  {
   "cell_type": "code",
   "execution_count": 21,
   "metadata": {
    "scrolled": false
   },
   "outputs": [
    {
     "data": {
      "text/html": [
       "<div>\n",
       "<style scoped>\n",
       "    .dataframe tbody tr th:only-of-type {\n",
       "        vertical-align: middle;\n",
       "    }\n",
       "\n",
       "    .dataframe tbody tr th {\n",
       "        vertical-align: top;\n",
       "    }\n",
       "\n",
       "    .dataframe thead th {\n",
       "        text-align: right;\n",
       "    }\n",
       "</style>\n",
       "<table border=\"1\" class=\"dataframe\">\n",
       "  <thead>\n",
       "    <tr style=\"text-align: right;\">\n",
       "      <th></th>\n",
       "      <th>review</th>\n",
       "      <th>sentiment</th>\n",
       "      <th>words</th>\n",
       "      <th>stemmed_words</th>\n",
       "      <th>refined_review</th>\n",
       "      <th>processed</th>\n",
       "    </tr>\n",
       "  </thead>\n",
       "  <tbody>\n",
       "    <tr>\n",
       "      <th>0</th>\n",
       "      <td>one of the other reviewers has mentioned that ...</td>\n",
       "      <td>positive</td>\n",
       "      <td>[one, of, the, other, reviewers, has, mentione...</td>\n",
       "      <td>[one, of, the, other, review, ha, mention, tha...</td>\n",
       "      <td>[one, review, ha, mention, watch, oz, episod, ...</td>\n",
       "      <td>one review ha mention watch oz episod hook rig...</td>\n",
       "    </tr>\n",
       "    <tr>\n",
       "      <th>1</th>\n",
       "      <td>a wonderful little production. &lt;br /&gt;&lt;br /&gt;the...</td>\n",
       "      <td>positive</td>\n",
       "      <td>[a, wonderful, little, production, br, br, the...</td>\n",
       "      <td>[a, wonder, littl, product, br, br, the, film,...</td>\n",
       "      <td>[wonder, littl, product, br, br, film, techniq...</td>\n",
       "      <td>wonder littl product br br film techniqu veri ...</td>\n",
       "    </tr>\n",
       "    <tr>\n",
       "      <th>2</th>\n",
       "      <td>i thought this was a wonderful way to spend ti...</td>\n",
       "      <td>positive</td>\n",
       "      <td>[i, thought, this, was, a, wonderful, way, to,...</td>\n",
       "      <td>[i, thought, thi, wa, a, wonder, way, to, spen...</td>\n",
       "      <td>[thought, thi, wa, wonder, way, spend, time, h...</td>\n",
       "      <td>thought thi wa wonder way spend time hot summe...</td>\n",
       "    </tr>\n",
       "    <tr>\n",
       "      <th>3</th>\n",
       "      <td>basically there's a family where a little boy ...</td>\n",
       "      <td>negative</td>\n",
       "      <td>[basically, there, a, family, where, a, little...</td>\n",
       "      <td>[basic, there, a, famili, where, a, littl, boy...</td>\n",
       "      <td>[basic, famili, littl, boy, jake, think, zombi...</td>\n",
       "      <td>basic famili littl boy jake think zombi hi clo...</td>\n",
       "    </tr>\n",
       "    <tr>\n",
       "      <th>4</th>\n",
       "      <td>petter mattei's \"love in the time of money\" is...</td>\n",
       "      <td>positive</td>\n",
       "      <td>[petter, mattei, love, in, the, time, of, mone...</td>\n",
       "      <td>[petter, mattei, love, in, the, time, of, mone...</td>\n",
       "      <td>[petter, mattei, love, time, money, visual, st...</td>\n",
       "      <td>petter mattei love time money visual stun film...</td>\n",
       "    </tr>\n",
       "    <tr>\n",
       "      <th>...</th>\n",
       "      <td>...</td>\n",
       "      <td>...</td>\n",
       "      <td>...</td>\n",
       "      <td>...</td>\n",
       "      <td>...</td>\n",
       "      <td>...</td>\n",
       "    </tr>\n",
       "    <tr>\n",
       "      <th>49995</th>\n",
       "      <td>i thought this movie did a down right good job...</td>\n",
       "      <td>positive</td>\n",
       "      <td>[i, thought, this, movie, did, a, down, right,...</td>\n",
       "      <td>[i, thought, thi, movi, did, a, down, right, g...</td>\n",
       "      <td>[thought, thi, movi, right, good, job, wa, cre...</td>\n",
       "      <td>thought thi movi right good job wa creativ ori...</td>\n",
       "    </tr>\n",
       "    <tr>\n",
       "      <th>49996</th>\n",
       "      <td>bad plot, bad dialogue, bad acting, idiotic di...</td>\n",
       "      <td>negative</td>\n",
       "      <td>[bad, plot, bad, dialogue, bad, acting, idioti...</td>\n",
       "      <td>[bad, plot, bad, dialogu, bad, act, idiot, dir...</td>\n",
       "      <td>[bad, plot, bad, dialogu, bad, act, idiot, dir...</td>\n",
       "      <td>bad plot bad dialogu bad act idiot direct anno...</td>\n",
       "    </tr>\n",
       "    <tr>\n",
       "      <th>49997</th>\n",
       "      <td>i am a catholic taught in parochial elementary...</td>\n",
       "      <td>negative</td>\n",
       "      <td>[i, am, a, catholic, taught, in, parochial, el...</td>\n",
       "      <td>[i, am, a, cathol, taught, in, parochi, elemen...</td>\n",
       "      <td>[cathol, taught, parochi, elementari, school, ...</td>\n",
       "      <td>cathol taught parochi elementari school nun ta...</td>\n",
       "    </tr>\n",
       "    <tr>\n",
       "      <th>49998</th>\n",
       "      <td>i'm going to have to disagree with the previou...</td>\n",
       "      <td>negative</td>\n",
       "      <td>[i, going, to, have, to, disagree, with, the, ...</td>\n",
       "      <td>[i, go, to, have, to, disagre, with, the, prev...</td>\n",
       "      <td>[go, disagre, previou, comment, side, maltin, ...</td>\n",
       "      <td>go disagre previou comment side maltin thi one...</td>\n",
       "    </tr>\n",
       "    <tr>\n",
       "      <th>49999</th>\n",
       "      <td>no one expects the star trek movies to be high...</td>\n",
       "      <td>negative</td>\n",
       "      <td>[no, one, expects, the, star, trek, movies, to...</td>\n",
       "      <td>[no, one, expect, the, star, trek, movi, to, b...</td>\n",
       "      <td>[one, expect, star, trek, movi, high, art, fan...</td>\n",
       "      <td>one expect star trek movi high art fan expect ...</td>\n",
       "    </tr>\n",
       "  </tbody>\n",
       "</table>\n",
       "<p>50000 rows × 6 columns</p>\n",
       "</div>"
      ],
      "text/plain": [
       "                                                  review sentiment  \\\n",
       "0      one of the other reviewers has mentioned that ...  positive   \n",
       "1      a wonderful little production. <br /><br />the...  positive   \n",
       "2      i thought this was a wonderful way to spend ti...  positive   \n",
       "3      basically there's a family where a little boy ...  negative   \n",
       "4      petter mattei's \"love in the time of money\" is...  positive   \n",
       "...                                                  ...       ...   \n",
       "49995  i thought this movie did a down right good job...  positive   \n",
       "49996  bad plot, bad dialogue, bad acting, idiotic di...  negative   \n",
       "49997  i am a catholic taught in parochial elementary...  negative   \n",
       "49998  i'm going to have to disagree with the previou...  negative   \n",
       "49999  no one expects the star trek movies to be high...  negative   \n",
       "\n",
       "                                                   words  \\\n",
       "0      [one, of, the, other, reviewers, has, mentione...   \n",
       "1      [a, wonderful, little, production, br, br, the...   \n",
       "2      [i, thought, this, was, a, wonderful, way, to,...   \n",
       "3      [basically, there, a, family, where, a, little...   \n",
       "4      [petter, mattei, love, in, the, time, of, mone...   \n",
       "...                                                  ...   \n",
       "49995  [i, thought, this, movie, did, a, down, right,...   \n",
       "49996  [bad, plot, bad, dialogue, bad, acting, idioti...   \n",
       "49997  [i, am, a, catholic, taught, in, parochial, el...   \n",
       "49998  [i, going, to, have, to, disagree, with, the, ...   \n",
       "49999  [no, one, expects, the, star, trek, movies, to...   \n",
       "\n",
       "                                           stemmed_words  \\\n",
       "0      [one, of, the, other, review, ha, mention, tha...   \n",
       "1      [a, wonder, littl, product, br, br, the, film,...   \n",
       "2      [i, thought, thi, wa, a, wonder, way, to, spen...   \n",
       "3      [basic, there, a, famili, where, a, littl, boy...   \n",
       "4      [petter, mattei, love, in, the, time, of, mone...   \n",
       "...                                                  ...   \n",
       "49995  [i, thought, thi, movi, did, a, down, right, g...   \n",
       "49996  [bad, plot, bad, dialogu, bad, act, idiot, dir...   \n",
       "49997  [i, am, a, cathol, taught, in, parochi, elemen...   \n",
       "49998  [i, go, to, have, to, disagre, with, the, prev...   \n",
       "49999  [no, one, expect, the, star, trek, movi, to, b...   \n",
       "\n",
       "                                          refined_review  \\\n",
       "0      [one, review, ha, mention, watch, oz, episod, ...   \n",
       "1      [wonder, littl, product, br, br, film, techniq...   \n",
       "2      [thought, thi, wa, wonder, way, spend, time, h...   \n",
       "3      [basic, famili, littl, boy, jake, think, zombi...   \n",
       "4      [petter, mattei, love, time, money, visual, st...   \n",
       "...                                                  ...   \n",
       "49995  [thought, thi, movi, right, good, job, wa, cre...   \n",
       "49996  [bad, plot, bad, dialogu, bad, act, idiot, dir...   \n",
       "49997  [cathol, taught, parochi, elementari, school, ...   \n",
       "49998  [go, disagre, previou, comment, side, maltin, ...   \n",
       "49999  [one, expect, star, trek, movi, high, art, fan...   \n",
       "\n",
       "                                               processed  \n",
       "0      one review ha mention watch oz episod hook rig...  \n",
       "1      wonder littl product br br film techniqu veri ...  \n",
       "2      thought thi wa wonder way spend time hot summe...  \n",
       "3      basic famili littl boy jake think zombi hi clo...  \n",
       "4      petter mattei love time money visual stun film...  \n",
       "...                                                  ...  \n",
       "49995  thought thi movi right good job wa creativ ori...  \n",
       "49996  bad plot bad dialogu bad act idiot direct anno...  \n",
       "49997  cathol taught parochi elementari school nun ta...  \n",
       "49998  go disagre previou comment side maltin thi one...  \n",
       "49999  one expect star trek movi high art fan expect ...  \n",
       "\n",
       "[50000 rows x 6 columns]"
      ]
     },
     "execution_count": 21,
     "metadata": {},
     "output_type": "execute_result"
    }
   ],
   "source": [
    "data_frame"
   ]
  },
  {
   "cell_type": "code",
   "execution_count": 22,
   "metadata": {},
   "outputs": [],
   "source": [
    "#x contains review and y contain sentiment\n",
    "x=data_frame.iloc[:,5].values\n",
    "y=data_frame.iloc[:,1].values"
   ]
  },
  {
   "cell_type": "code",
   "execution_count": 23,
   "metadata": {},
   "outputs": [],
   "source": [
    "from sklearn.model_selection import train_test_split"
   ]
  },
  {
   "cell_type": "code",
   "execution_count": 24,
   "metadata": {},
   "outputs": [],
   "source": [
    "#Splitting into training and testing data\n",
    "x_train,y_train,x_test,y_test=train_test_split(x,y,test_size=0.33)"
   ]
  },
  {
   "cell_type": "code",
   "execution_count": 25,
   "metadata": {},
   "outputs": [
    {
     "data": {
      "text/plain": [
       "(16500,)"
      ]
     },
     "execution_count": 25,
     "metadata": {},
     "output_type": "execute_result"
    }
   ],
   "source": [
    "y_train.shape"
   ]
  },
  {
   "cell_type": "code",
   "execution_count": 26,
   "metadata": {},
   "outputs": [],
   "source": [
    "from sklearn.naive_bayes import MultinomialNB \n",
    "from sklearn.pipeline import Pipeline\n",
    "from sklearn.feature_extraction.text import TfidfVectorizer"
   ]
  },
  {
   "cell_type": "code",
   "execution_count": 27,
   "metadata": {},
   "outputs": [],
   "source": [
    "model=Pipeline([\n",
    "    ('tfdif',TfidfVectorizer()),\n",
    "    ('classifier',MultinomialNB())\n",
    "])"
   ]
  },
  {
   "cell_type": "code",
   "execution_count": 28,
   "metadata": {},
   "outputs": [
    {
     "data": {
      "text/plain": [
       "Pipeline(memory=None,\n",
       "         steps=[('tfdif',\n",
       "                 TfidfVectorizer(analyzer='word', binary=False,\n",
       "                                 decode_error='strict',\n",
       "                                 dtype=<class 'numpy.float64'>,\n",
       "                                 encoding='utf-8', input='content',\n",
       "                                 lowercase=True, max_df=1.0, max_features=None,\n",
       "                                 min_df=1, ngram_range=(1, 1), norm='l2',\n",
       "                                 preprocessor=None, smooth_idf=True,\n",
       "                                 stop_words=None, strip_accents=None,\n",
       "                                 sublinear_tf=False,\n",
       "                                 token_pattern='(?u)\\\\b\\\\w\\\\w+\\\\b',\n",
       "                                 tokenizer=None, use_idf=True,\n",
       "                                 vocabulary=None)),\n",
       "                ('classifier',\n",
       "                 MultinomialNB(alpha=1.0, class_prior=None, fit_prior=True))],\n",
       "         verbose=False)"
      ]
     },
     "execution_count": 28,
     "metadata": {},
     "output_type": "execute_result"
    }
   ],
   "source": [
    "#Training the model\n",
    "model.fit(x_train,x_test)"
   ]
  },
  {
   "cell_type": "markdown",
   "metadata": {},
   "source": [
    "# Validation of the model with new reviews"
   ]
  },
  {
   "cell_type": "code",
   "execution_count": 29,
   "metadata": {},
   "outputs": [
    {
     "data": {
      "text/plain": [
       "array(['negative'], dtype='<U8')"
      ]
     },
     "execution_count": 29,
     "metadata": {},
     "output_type": "execute_result"
    }
   ],
   "source": [
    "model.predict([\"This movie is just crap. Even though the directors claim to be part of that oi-culture, it's still a very, very bad directorial debut. The topic itself is very interesting and I accept the bad acting ...\"])"
   ]
  },
  {
   "cell_type": "code",
   "execution_count": 30,
   "metadata": {},
   "outputs": [
    {
     "data": {
      "text/plain": [
       "array(['negative'], dtype='<U8')"
      ]
     },
     "execution_count": 30,
     "metadata": {},
     "output_type": "execute_result"
    }
   ],
   "source": [
    "model.predict([\"this movie is quite bad, aggressive, not played well, not directed well, seems low budget, low quality,emotionaly weak and disconnected.\"])"
   ]
  },
  {
   "cell_type": "code",
   "execution_count": 31,
   "metadata": {},
   "outputs": [
    {
     "data": {
      "text/plain": [
       "array(['positive'], dtype='<U8')"
      ]
     },
     "execution_count": 31,
     "metadata": {},
     "output_type": "execute_result"
    }
   ],
   "source": [
    "model.predict([\"a perfect film to watch during the holiday season as the winter/Xmas atmosphere that Burton creates for Gotham City is way cool.\"])"
   ]
  },
  {
   "cell_type": "code",
   "execution_count": 32,
   "metadata": {},
   "outputs": [
    {
     "data": {
      "text/plain": [
       "array(['positive'], dtype='<U8')"
      ]
     },
     "execution_count": 32,
     "metadata": {},
     "output_type": "execute_result"
    }
   ],
   "source": [
    "model.predict([\"I like Noel Coward, the wit. I like Noel Coward, the play write. I like Noel Coward, the composer and singer, but I loathe Noel Coward the actor.\"])"
   ]
  },
  {
   "cell_type": "code",
   "execution_count": 33,
   "metadata": {},
   "outputs": [
    {
     "data": {
      "text/plain": [
       "86.12121212121212"
      ]
     },
     "execution_count": 33,
     "metadata": {},
     "output_type": "execute_result"
    }
   ],
   "source": [
    "#Predicting the output\n",
    "y_pred=model.predict(y_train)"
   ]
  },
  {
   "cell_type": "code",
   "execution_count": 34,
   "metadata": {},
   "outputs": [],
   "source": [
    "from sklearn.metrics import accuracy_score,confusion_matrix,classification_report"
   ]
  },
  {
   "cell_type": "code",
   "execution_count": 35,
   "metadata": {},
   "outputs": [
    {
     "data": {
      "text/plain": [
       "86.12121212121212"
      ]
     },
     "execution_count": 35,
     "metadata": {},
     "output_type": "execute_result"
    }
   ],
   "source": [
    "accuracy_score(y_test,y_pred)*100"
   ]
  },
  {
   "cell_type": "code",
   "execution_count": 36,
   "metadata": {},
   "outputs": [
    {
     "data": {
      "text/plain": [
       "array([[7218, 1032],\n",
       "       [1258, 6992]], dtype=int64)"
      ]
     },
     "execution_count": 36,
     "metadata": {},
     "output_type": "execute_result"
    }
   ],
   "source": [
    "confusion_matrix(y_test,y_pred)"
   ]
  },
  {
   "cell_type": "code",
   "execution_count": 37,
   "metadata": {},
   "outputs": [
    {
     "name": "stdout",
     "output_type": "stream",
     "text": [
      "              precision    recall  f1-score   support\n",
      "\n",
      "    negative       0.85      0.87      0.86      8250\n",
      "    positive       0.87      0.85      0.86      8250\n",
      "\n",
      "    accuracy                           0.86     16500\n",
      "   macro avg       0.86      0.86      0.86     16500\n",
      "weighted avg       0.86      0.86      0.86     16500\n",
      "\n"
     ]
    }
   ],
   "source": [
    "print(classification_report(y_test,y_pred))"
   ]
  },
  {
   "cell_type": "code",
   "execution_count": null,
   "metadata": {},
   "outputs": [],
   "source": []
  }
 ],
 "metadata": {
  "kernelspec": {
   "display_name": "Python 3",
   "language": "python",
   "name": "python3"
  },
  "language_info": {
   "codemirror_mode": {
    "name": "ipython",
    "version": 3
   },
   "file_extension": ".py",
   "mimetype": "text/x-python",
   "name": "python",
   "nbconvert_exporter": "python",
   "pygments_lexer": "ipython3",
   "version": "3.7.6"
  }
 },
 "nbformat": 4,
 "nbformat_minor": 4
}
